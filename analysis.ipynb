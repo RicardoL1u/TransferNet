{
 "cells": [
  {
   "cell_type": "code",
   "execution_count": 1,
   "metadata": {},
   "outputs": [],
   "source": [
    "import pickle"
   ]
  },
  {
   "cell_type": "code",
   "execution_count": 2,
   "metadata": {},
   "outputs": [
    {
     "name": "stderr",
     "output_type": "stream",
     "text": [
      "/home/lyt/miniconda3/envs/DocRED/lib/python3.8/site-packages/tqdm/auto.py:22: TqdmWarning: IProgress not found. Please update jupyter and ipywidgets. See https://ipywidgets.readthedocs.io/en/stable/user_install.html\n",
      "  from .autonotebook import tqdm as notebook_tqdm\n"
     ]
    }
   ],
   "source": [
    "last_e,answers,entity_range = pickle.load(open('analysis.pkl','rb'))"
   ]
  },
  {
   "cell_type": "code",
   "execution_count": 3,
   "metadata": {},
   "outputs": [
    {
     "name": "stdout",
     "output_type": "stream",
     "text": [
      "(14934,)\n"
     ]
    }
   ],
   "source": [
    "import torch\n",
    "last_e_1 = torch.masked_select(last_e[3],entity_range[3]==1).cpu().detach().numpy()\n",
    "print(last_e_1.shape)"
   ]
  },
  {
   "cell_type": "code",
   "execution_count": 4,
   "metadata": {},
   "outputs": [],
   "source": [
    "import numpy as np\n",
    "last_e_1 = np.exp(last_e_1) / np.exp(last_e_1).sum()"
   ]
  },
  {
   "cell_type": "code",
   "execution_count": 5,
   "metadata": {},
   "outputs": [
    {
     "data": {
      "image/png": "[encoded data removed]",
      "text/plain": [
       "<Figure size 432x288 with 1 Axes>"
      ]
     },
     "metadata": {
      "needs_background": "light"
     },
     "output_type": "display_data"
    }
   ],
   "source": [
    "import matplotlib.pyplot as plt\n",
    "# import numpy as np\n",
    "\n",
    "\n",
    "plt.hist(last_e_1,bins=100)  # density=False would make counts\n",
    "plt.yscale('log')"
   ]
  },
  {
   "cell_type": "code",
   "execution_count": 6,
   "metadata": {},
   "outputs": [
    {
     "data": {
      "text/plain": [
       "Counter({6.6826215e-05: 14239,\n",
       "         6.873689e-05: 288,\n",
       "         6.907904e-05: 33,\n",
       "         7.1393864e-05: 27,\n",
       "         6.908098e-05: 111,\n",
       "         6.906359e-05: 17,\n",
       "         6.8623216e-05: 3,\n",
       "         7.1221075e-05: 15,\n",
       "         6.849846e-05: 1,\n",
       "         7.41943e-05: 11,\n",
       "         6.883731e-05: 7,\n",
       "         7.057711e-05: 2,\n",
       "         7.411618e-05: 18,\n",
       "         6.8738256e-05: 5,\n",
       "         7.1482624e-05: 19,\n",
       "         7.3605595e-05: 14,\n",
       "         7.38179e-05: 4,\n",
       "         7.18891e-05: 17,\n",
       "         6.863656e-05: 4,\n",
       "         7.162177e-05: 6,\n",
       "         7.459088e-05: 1,\n",
       "         7.120314e-05: 1,\n",
       "         6.944696e-05: 2,\n",
       "         6.848242e-05: 10,\n",
       "         6.915142e-05: 4,\n",
       "         7.0934446e-05: 20,\n",
       "         7.340484e-05: 2,\n",
       "         7.114917e-05: 1,\n",
       "         6.928603e-05: 7,\n",
       "         7.3520336e-05: 3,\n",
       "         6.889645e-05: 6,\n",
       "         6.914723e-05: 3,\n",
       "         7.330938e-05: 6,\n",
       "         6.917069e-05: 1,\n",
       "         6.887608e-05: 1,\n",
       "         6.8805224e-05: 1,\n",
       "         6.923941e-05: 1,\n",
       "         6.923051e-05: 1,\n",
       "         7.0936614e-05: 1,\n",
       "         6.9160116e-05: 1,\n",
       "         6.974718e-05: 4,\n",
       "         6.861916e-05: 4,\n",
       "         6.881663e-05: 3,\n",
       "         6.8502224e-05: 1,\n",
       "         7.587783e-05: 1,\n",
       "         7.112857e-05: 1,\n",
       "         7.624921e-05: 1,\n",
       "         7.368317e-05: 1,\n",
       "         7.341912e-05: 1,\n",
       "         7.059897e-05: 1,\n",
       "         6.914889e-05: 1,\n",
       "         7.315379e-05: 1})"
      ]
     },
     "execution_count": 6,
     "metadata": {},
     "output_type": "execute_result"
    }
   ],
   "source": [
    "from collections import Counter\n",
    "Counter(last_e_1)"
   ]
  },
  {
   "cell_type": "code",
   "execution_count": 15,
   "metadata": {},
   "outputs": [
    {
     "data": {
      "text/plain": [
       "175"
      ]
     },
     "execution_count": 15,
     "metadata": {},
     "output_type": "execute_result"
    }
   ],
   "source": [
    "(last_e_1 > 7e-5).sum()"
   ]
  },
  {
   "cell_type": "code",
   "execution_count": 8,
   "metadata": {},
   "outputs": [
    {
     "data": {
      "text/plain": [
       "tensor(2., device='cuda:0')"
      ]
     },
     "execution_count": 8,
     "metadata": {},
     "output_type": "execute_result"
    }
   ],
   "source": [
    "answers[0].sum()"
   ]
  },
  {
   "cell_type": "code",
   "execution_count": 9,
   "metadata": {},
   "outputs": [
    {
     "data": {
      "text/plain": [
       "1.0000000384025043"
      ]
     },
     "execution_count": 9,
     "metadata": {},
     "output_type": "execute_result"
    }
   ],
   "source": [
    "sum(last_e_1)"
   ]
  },
  {
   "cell_type": "code",
   "execution_count": 10,
   "metadata": {},
   "outputs": [
    {
     "data": {
      "text/plain": [
       "tensor(62., device='cuda:0')"
      ]
     },
     "execution_count": 10,
     "metadata": {},
     "output_type": "execute_result"
    }
   ],
   "source": [
    "answers.sum()"
   ]
  },
  {
   "cell_type": "code",
   "execution_count": 18,
   "metadata": {},
   "outputs": [
    {
     "data": {
      "image/png": "[encoded data removed]",
      "text/plain": [
       "<Figure size 432x288 with 1 Axes>"
      ]
     },
     "metadata": {
      "needs_background": "light"
     },
     "output_type": "display_data"
    }
   ],
   "source": [
    "import matplotlib.pyplot as plt\n",
    "# import numpy as np\n",
    "\n",
    "\n",
    "plt.hist(last_e[3].cpu().detach().numpy(),bins=100)  # density=False would make counts\n",
    "plt.yscale('log')"
   ]
  },
  {
   "cell_type": "code",
   "execution_count": 19,
   "metadata": {},
   "outputs": [],
   "source": [
    "all_e = last_e.flatten().cpu().detach().numpy()"
   ]
  },
  {
   "cell_type": "code",
   "execution_count": 20,
   "metadata": {},
   "outputs": [
    {
     "data": {
      "image/png": "[encoded data removed]",
      "text/plain": [
       "<Figure size 432x288 with 1 Axes>"
      ]
     },
     "metadata": {
      "needs_background": "light"
     },
     "output_type": "display_data"
    }
   ],
   "source": []
  },
  {
   "cell_type": "code",
   "execution_count": 23,
   "metadata": {},
   "outputs": [
    {
     "data": {
      "text/plain": [
       "tensor(60, device='cuda:0')"
      ]
     },
     "execution_count": 23,
     "metadata": {},
     "output_type": "execute_result"
    }
   ],
   "source": [
    "(last_e > 4e-1).sum()"
   ]
  },
  {
   "cell_type": "code",
   "execution_count": 22,
   "metadata": {},
   "outputs": [
    {
     "data": {
      "text/plain": [
       "tensor(62., device='cuda:0')"
      ]
     },
     "execution_count": 22,
     "metadata": {},
     "output_type": "execute_result"
    }
   ],
   "source": [
    "answers.sum()"
   ]
  },
  {
   "cell_type": "code",
   "execution_count": 24,
   "metadata": {},
   "outputs": [],
   "source": [
    "all_e = np.array([])\n",
    "for e,mask in zip(last_e,entity_range):\n",
    "    all_e  = np.concatenate([all_e,torch.masked_select(e,mask==1).cpu().detach().numpy()])"
   ]
  },
  {
   "cell_type": "code",
   "execution_count": 25,
   "metadata": {},
   "outputs": [
    {
     "data": {
      "image/png": "[encoded data removed]",
      "text/plain": [
       "<Figure size 432x288 with 1 Axes>"
      ]
     },
     "metadata": {
      "needs_background": "light"
     },
     "output_type": "display_data"
    }
   ],
   "source": [
    "import matplotlib.pyplot as plt\n",
    "# import numpy as np\n",
    "\n",
    "\n",
    "plt.hist(all_e,bins=100)  # density=False would make counts\n",
    "plt.yscale('log')"
   ]
  },
  {
   "cell_type": "code",
   "execution_count": 26,
   "metadata": {},
   "outputs": [
    {
     "data": {
      "text/plain": [
       "7837901"
      ]
     },
     "execution_count": 26,
     "metadata": {},
     "output_type": "execute_result"
    }
   ],
   "source": [
    "len(all_e)"
   ]
  },
  {
   "cell_type": "code",
   "execution_count": 27,
   "metadata": {},
   "outputs": [
    {
     "data": {
      "text/plain": [
       "array([0.        , 0.        , 0.        , ..., 0.        , 0.02223522,\n",
       "       0.02223522])"
      ]
     },
     "execution_count": 27,
     "metadata": {},
     "output_type": "execute_result"
    },
    {
     "ename": "",
     "evalue": "",
     "output_type": "error",
     "traceback": [
      "\u001b[1;31mThe Kernel crashed while executing code in the the current cell or a previous cell. Please review the code in the cell(s) to identify a possible cause of the failure. Click <a href='https://aka.ms/vscodeJupyterKernelCrash'>here</a> for more info. View Jupyter <a href='command:jupyter.viewOutput'>log</a> for further details."
     ]
    }
   ],
   "source": [
    "all_e"
   ]
  },
  {
   "cell_type": "code",
   "execution_count": null,
   "metadata": {},
   "outputs": [],
   "source": []
  }
 ],
 "metadata": {
  "kernelspec": {
   "display_name": "Python 3.8.13 ('DocRED')",
   "language": "python",
   "name": "python3"
  },
  "language_info": {
   "codemirror_mode": {
    "name": "ipython",
    "version": 3
   },
   "file_extension": ".py",
   "mimetype": "text/x-python",
   "name": "python",
   "nbconvert_exporter": "python",
   "pygments_lexer": "ipython3",
   "version": "3.8.13"
  },
  "orig_nbformat": 4,
  "vscode": {
   "interpreter": {
    "hash": "a122494871ff66f22689dd27411b6f9b224429266c3689c062961e2d5178a3e4"
   }
  }
 },
 "nbformat": 4,
 "nbformat_minor": 2
}
