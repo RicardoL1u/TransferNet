{
 "cells": [
  {
   "cell_type": "code",
   "execution_count": 1,
   "metadata": {},
   "outputs": [],
   "source": [
    "import re\n",
    "import json\n",
    "from collections import defaultdict\n",
    "from tqdm import tqdm\n",
    "import numpy as np\n",
    "import random\n"
   ]
  },
  {
   "cell_type": "code",
   "execution_count": 2,
   "metadata": {},
   "outputs": [],
   "source": [
    "datapath = 'data/AnonyQA/'\n",
    "files = ['train.json','eval.json','test.json']\n",
    "topic_entity_set = set()\n",
    "for file in files:\n",
    "    for q in json.load(open(f'{datapath}/{file}')):\n",
    "        topic_entity_set.add(q['topic_entity'])"
   ]
  },
  {
   "cell_type": "code",
   "execution_count": 43,
   "metadata": {},
   "outputs": [
    {
     "name": "stderr",
     "output_type": "stream",
     "text": [
      "100%|██████████| 10616935/10616935 [01:05<00:00, 161566.75it/s]\n"
     ]
    }
   ],
   "source": [
    "kg_name = 'wyf50'\n",
    "sub_map = defaultdict(list)\n",
    "entity_set = set()\n",
    "relation_set = set()   \n",
    "for line in tqdm(set(open(f'data/kg/{kg_name}.ttl').readlines()).union(set(open('data/kg/essentail.ttl').readlines()))):\n",
    "    l = line.strip().split('\\t')\n",
    "    s = l[0].strip()\n",
    "    p = l[1].strip()\n",
    "    o = l[2].strip()\n",
    "    entity_set.add(s)\n",
    "    entity_set.add(o)\n",
    "    relation_set.add(p)\n",
    "    sub_map[s].append((p, o))\n",
    "    if o in topic_entity_set:\n",
    "        sub_map[o].append((p+'^{-1}',s))"
   ]
  },
  {
   "cell_type": "code",
   "execution_count": 44,
   "metadata": {},
   "outputs": [
    {
     "name": "stdout",
     "output_type": "stream",
     "text": [
      "3924536\n"
     ]
    }
   ],
   "source": [
    "print(len(entity_set))"
   ]
  },
  {
   "cell_type": "code",
   "execution_count": 4,
   "metadata": {},
   "outputs": [],
   "source": [
    "test_dataset = json.load(open('data/AnonyQA/test.json'))\n",
    "train_dataset = json.load(open('data/AnonyQA/train.json'))\n",
    "eval_dataset = json.load(open('data/AnonyQA/eval.json'))\n",
    "\n",
    "\n"
   ]
  },
  {
   "cell_type": "code",
   "execution_count": 23,
   "metadata": {},
   "outputs": [],
   "source": [
    "random.shuffle(test_dataset)"
   ]
  },
  {
   "cell_type": "code",
   "execution_count": 26,
   "metadata": {},
   "outputs": [
    {
     "data": {
      "text/plain": [
       "{'question': ' Who is named after [human_3]',\n",
       " 'text': '\" Lily \" is a song by British rock band Queen .Lead singer [human_3] plays the piano and provides all the vocals on the track .It was originally featured on Queen \\'s third album , Sheer Heart Attack , released in 1974 , and is one of the album \\'s few ballads .In 1975 , \" Lily \" was released as the B - side of different singles in the U.K. and the United States .The U.K. single was \" Now I \\'m Here \" , and the U.S. single was a reissue of \" Keep Yourself Alive \" .The lyrics refer back to a song from a previous album , \" Seven Seas of Rhye \" from Queen II , with the line \" messenger from Seven Seas has flown , to tell the King of Rhye he \\'s lost his throne . \"In a 1999 interview , Brian May told the British music magazine Mojo , \" [human_3] \\'s stuff was so heavily cloaked , lyrically ...But you could find out , just from little insights , that a lot of his private thoughts were in there , although a lot of the more meaningful stuff was not very accessible .Lily was utterly heartfelt .It \\'s about looking at his girlfriend and realising that his body needed to be somewhere else .It \\'s a great piece of art , but it \\'s the last song that would ever be a hit . \"Actor Rami Malek ( who is portraying [human_3] in the upcoming Queen biopic Bohemian Rhapsody ) revealed on The Late Show with Stephen Colbert that \" Lily \" is his favorite Queen song . ',\n",
       " 'title': '[human_3]',\n",
       " 'answers': ['17473 Freddiemercury'],\n",
       " 'topic_entity': 'Q219747',\n",
       " 'ans_ids': ['Q4541891'],\n",
       " 'topic_entity_name': 'Sheer Heart Attack'}"
      ]
     },
     "execution_count": 26,
     "metadata": {},
     "output_type": "execute_result"
    }
   ],
   "source": [
    "# test_dataset[0]"
   ]
  },
  {
   "cell_type": "code",
   "execution_count": 39,
   "metadata": {},
   "outputs": [
    {
     "name": "stderr",
     "output_type": "stream",
     "text": [
      "100%|██████████| 2000/2000 [00:38<00:00, 52.13it/s] "
     ]
    },
    {
     "name": "stdout",
     "output_type": "stream",
     "text": [
      "0.5525691699604743\n",
      "0.6144842012562601\n",
      "144207.0265\n"
     ]
    },
    {
     "name": "stderr",
     "output_type": "stream",
     "text": [
      "\n"
     ]
    }
   ],
   "source": [
    "recall_rate = []\n",
    "entity_range_cache = {}\n",
    "entity_range_list = []\n",
    "total_in = 0\n",
    "total_ans = 0\n",
    "for data in tqdm(test_dataset[:2000]):\n",
    "    head = data['topic_entity']\n",
    "    if head in entity_range_cache.keys():\n",
    "        entity_range_list.append(entity_range_cache[head])\n",
    "        unit_in = len(set(data['ans_ids']).intersection(entity_range_cache[head]))\n",
    "        recall_rate.append(unit_in/ len(data['ans_ids']) )\n",
    "        continue\n",
    "    entity_range = set()\n",
    "    for p, o in sub_map[head]:\n",
    "        if len(entity_range) > 8e5:\n",
    "            break\n",
    "        # if '-1' in p and random.random() > 0.8:\n",
    "        #     continue\n",
    "        entity_range.add(o)\n",
    "        for p2, o2 in sub_map[o]:\n",
    "            if len(entity_range) > 8e5:\n",
    "                break\n",
    "            # if '-1' in p2 and random.random() > 0.8:\n",
    "            #     continue\n",
    "            entity_range.add(o2)\n",
    "    entity_range_list.append(entity_range)\n",
    "    entity_range_cache[head] = entity_range\n",
    "    unit_in = len(set(data['ans_ids']).intersection(entity_range))\n",
    "    recall_rate.append(unit_in/ len(data['ans_ids']) )\n",
    "    total_in += unit_in\n",
    "    total_ans += len(data['ans_ids'])\n",
    "print(total_in / total_ans)\n",
    "print(np.mean(recall_rate))\n",
    "submap_size = np.array([len(unit) for unit in entity_range_list])\n",
    "print(np.mean(submap_size))"
   ]
  },
  {
   "cell_type": "code",
   "execution_count": 40,
   "metadata": {},
   "outputs": [],
   "source": [
    "\n",
    "# print(submap_size)\n"
   ]
  },
  {
   "cell_type": "code",
   "execution_count": 41,
   "metadata": {},
   "outputs": [
    {
     "data": {
      "image/png": "[encoded data removed]",
      "text/plain": [
       "<Figure size 432x288 with 1 Axes>"
      ]
     },
     "metadata": {
      "needs_background": "light"
     },
     "output_type": "display_data"
    }
   ],
   "source": [
    "import matplotlib.pyplot as plt\n",
    "\n",
    "plt.hist([len(unit) for unit in entity_range_list],bins=100)\n",
    "plt.yscale('log')"
   ]
  },
  {
   "cell_type": "code",
   "execution_count": 42,
   "metadata": {},
   "outputs": [
    {
     "data": {
      "text/plain": [
       "<matplotlib.collections.PathCollection at 0x7f393975f340>"
      ]
     },
     "execution_count": 42,
     "metadata": {},
     "output_type": "execute_result"
    },
    {
     "data": {
      "image/png": "[encoded data removed]",
      "text/plain": [
       "<Figure size 432x288 with 1 Axes>"
      ]
     },
     "metadata": {
      "needs_background": "light"
     },
     "output_type": "display_data"
    }
   ],
   "source": [
    "plt.scatter(submap_size,recall_rate)"
   ]
  },
  {
   "cell_type": "code",
   "execution_count": 55,
   "metadata": {},
   "outputs": [
    {
     "data": {
      "text/plain": [
       "192.0"
      ]
     },
     "execution_count": 55,
     "metadata": {},
     "output_type": "execute_result"
    }
   ],
   "source": [
    "8*6e4*4e5/1e9"
   ]
  },
  {
   "cell_type": "code",
   "execution_count": 59,
   "metadata": {},
   "outputs": [
    {
     "data": {
      "text/plain": [
       "150.0"
      ]
     },
     "execution_count": 59,
     "metadata": {},
     "output_type": "execute_result"
    },
    {
     "ename": "",
     "evalue": "",
     "output_type": "error",
     "traceback": [
      "\u001b[1;31mThe Kernel crashed while executing code in the the current cell or a previous cell. Please review the code in the cell(s) to identify a possible cause of the failure. Click <a href='https://aka.ms/vscodeJupyterKernelCrash'>here</a> for more info. View Jupyter <a href='command:jupyter.viewOutput'>log</a> for further details."
     ]
    }
   ],
   "source": [
    "5e4*3e6/1e9"
   ]
  },
  {
   "cell_type": "code",
   "execution_count": 56,
   "metadata": {},
   "outputs": [
    {
     "data": {
      "text/plain": [
       "3000000.0"
      ]
     },
     "execution_count": 56,
     "metadata": {},
     "output_type": "execute_result"
    }
   ],
   "source": [
    "3e6"
   ]
  },
  {
   "cell_type": "code",
   "execution_count": null,
   "metadata": {},
   "outputs": [],
   "source": []
  }
 ],
 "metadata": {
  "kernelspec": {
   "display_name": "Python 3.8.13 ('DocRED')",
   "language": "python",
   "name": "python3"
  },
  "language_info": {
   "codemirror_mode": {
    "name": "ipython",
    "version": 3
   },
   "file_extension": ".py",
   "mimetype": "text/x-python",
   "name": "python",
   "nbconvert_exporter": "python",
   "pygments_lexer": "ipython3",
   "version": "3.8.13"
  },
  "orig_nbformat": 4,
  "vscode": {
   "interpreter": {
    "hash": "a122494871ff66f22689dd27411b6f9b224429266c3689c062961e2d5178a3e4"
   }
  }
 },
 "nbformat": 4,
 "nbformat_minor": 2
}
